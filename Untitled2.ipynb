{
  "nbformat": 4,
  "nbformat_minor": 0,
  "metadata": {
    "colab": {
      "provenance": [],
      "authorship_tag": "ABX9TyPd/4wI2DCahn+anxVHT4zt",
      "include_colab_link": true
    },
    "kernelspec": {
      "name": "python3",
      "display_name": "Python 3"
    },
    "language_info": {
      "name": "python"
    }
  },
  "cells": [
    {
      "cell_type": "markdown",
      "metadata": {
        "id": "view-in-github",
        "colab_type": "text"
      },
      "source": [
        "<a href=\"https://colab.research.google.com/github/dheeraj1162/software/blob/main/Untitled2.ipynb\" target=\"_parent\"><img src=\"https://colab.research.google.com/assets/colab-badge.svg\" alt=\"Open In Colab\"/></a>"
      ]
    },
    {
      "cell_type": "code",
      "execution_count": null,
      "metadata": {
        "id": "kmnoZ6-Yjy4F"
      },
      "outputs": [],
      "source": [
        "# prompt: create a dataframe with 2 columns and 10 rows\n",
        "\n",
        "import pandas as pd\n",
        "\n",
        "# Create a DataFrame with 2 columns and 10 rows\n",
        "data = {'col1': range(10), 'col2': range(10, 20)}\n",
        "df = pd.DataFrame(data)\n",
        "\n",
        "df\n"
      ]
    },
    {
      "cell_type": "code",
      "source": [
        "#hard coded variable\n",
        "t=25\n",
        "h=50\n",
        "w=10\n",
        "w=0.5 * t**2 - 0.2*h + 0.1*w-15\n",
        "print(f\"weather:{w}\")"
      ],
      "metadata": {
        "colab": {
          "base_uri": "https://localhost:8080/"
        },
        "id": "7c2nvoBAj7yz",
        "outputId": "fe2860ea-5906-4e0f-a868-0c2be116df70"
      },
      "execution_count": 1,
      "outputs": [
        {
          "output_type": "stream",
          "name": "stdout",
          "text": [
            "weather:288.5\n"
          ]
        }
      ]
    },
    {
      "cell_type": "code",
      "source": [
        "#keyboard input\n",
        "t=float(input(\"enter the temp\"))\n",
        "h=float(input(\"enter the humidity:\"))\n",
        "w=float(input(\"enter the wind speed:\"))\n",
        "w= 0.5 * t**2 - 0.2*h + 0.1*w-15\n",
        "print(f\"weather:{w}\")"
      ],
      "metadata": {
        "colab": {
          "base_uri": "https://localhost:8080/"
        },
        "id": "unrUoYsdlP4x",
        "outputId": "9808bc5c-5602-44e9-f030-5261c3a9db62"
      },
      "execution_count": 2,
      "outputs": [
        {
          "output_type": "stream",
          "name": "stdout",
          "text": [
            "enter the temp90\n",
            "enter the humidity:50\n",
            "enter the wind speed:34\n",
            "weather:4028.4\n"
          ]
        }
      ]
    }
  ]
}